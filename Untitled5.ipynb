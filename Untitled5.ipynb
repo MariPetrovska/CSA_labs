{
  "nbformat": 4,
  "nbformat_minor": 0,
  "metadata": {
    "colab": {
      "provenance": [],
      "authorship_tag": "ABX9TyNrA70YKLf8SGwyBK8kC9kr",
      "include_colab_link": true
    },
    "kernelspec": {
      "name": "python3",
      "display_name": "Python 3"
    },
    "language_info": {
      "name": "python"
    }
  },
  "cells": [
    {
      "cell_type": "markdown",
      "metadata": {
        "id": "view-in-github",
        "colab_type": "text"
      },
      "source": [
        "<a href=\"https://colab.research.google.com/github/MariPetrovska/CSA_labs/blob/main/Untitled5.ipynb\" target=\"_parent\"><img src=\"https://colab.research.google.com/assets/colab-badge.svg\" alt=\"Open In Colab\"/></a>"
      ]
    },
    {
      "cell_type": "code",
      "execution_count": 1,
      "metadata": {
        "colab": {
          "base_uri": "https://localhost:8080/"
        },
        "id": "AeWKMGQB0HIn",
        "outputId": "9acf1c76-b8d4-40c8-c871-28a93137d414"
      },
      "outputs": [
        {
          "output_type": "stream",
          "name": "stdout",
          "text": [
            "Hello, I am Maryna!\n",
            "Sum: 19\n"
          ]
        }
      ],
      "source": [
        "# Print a greeting\n",
        "print(\"Hello, I am Maryna!\")\n",
        "\n",
        "# Do a simple calculation\n",
        "a = 8\n",
        "b = 11\n",
        "print(\"Sum:\", a + b)\n",
        "\n"
      ]
    },
    {
      "cell_type": "code",
      "source": [],
      "metadata": {
        "id": "gmiIAELxG268"
      },
      "execution_count": null,
      "outputs": []
    },
    {
      "cell_type": "markdown",
      "source": [
        "| Name    | Age | City     |\n",
        "|---------|-----|----------|\n",
        "| Alice   | 25  | Kyiv     |\n",
        "| Bob     | 30  | Lviv     |\n",
        "| Charlie | 22  | Odesa    |\n"
      ],
      "metadata": {
        "id": "9w45CeerG3LD"
      }
    },
    {
      "cell_type": "markdown",
      "source": [
        "## Welcome to My Markdown Document\n",
        "\n",
        "This is the first paragraph. It introduces the topic and provides some context.\n",
        "\n",
        "---\n",
        "\n",
        "### Section One\n",
        "\n",
        "Here is the content for the first section. We might discuss some key points here.\n",
        "\n",
        "---\n",
        "\n",
        "### Section Two\n",
        "\n",
        "This part covers additional information or details.\n",
        "\n",
        "---\n",
        "\n",
        "Thank you for reading!\n"
      ],
      "metadata": {
        "id": "wSCv0AtKHH0u"
      }
    },
    {
      "cell_type": "markdown",
      "source": [
        "- [x] Read the instructions  \n",
        "- [x] Create a table  \n",
        "- [ ] Add horizontal rules  \n",
        "- [ ] Write the checklist  \n",
        "- [ ] Submit the assignment  \n"
      ],
      "metadata": {
        "id": "mP-Z4h6fHQ6F"
      }
    }
  ]
}