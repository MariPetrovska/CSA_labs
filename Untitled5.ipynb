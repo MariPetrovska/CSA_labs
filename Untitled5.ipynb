{
  "nbformat": 4,
  "nbformat_minor": 0,
  "metadata": {
    "colab": {
      "provenance": [],
      "authorship_tag": "ABX9TyNwjrT2bE+DgICFkd34wOLH",
      "include_colab_link": true
    },
    "kernelspec": {
      "name": "python3",
      "display_name": "Python 3"
    },
    "language_info": {
      "name": "python"
    }
  },
  "cells": [
    {
      "cell_type": "markdown",
      "metadata": {
        "id": "view-in-github",
        "colab_type": "text"
      },
      "source": [
        "<a href=\"https://colab.research.google.com/github/MariPetrovska/CSA_labs/blob/main/Untitled5.ipynb\" target=\"_parent\"><img src=\"https://colab.research.google.com/assets/colab-badge.svg\" alt=\"Open In Colab\"/></a>"
      ]
    },
    {
      "cell_type": "code",
      "execution_count": 6,
      "metadata": {
        "colab": {
          "base_uri": "https://localhost:8080/"
        },
        "id": "AeWKMGQB0HIn",
        "outputId": "a9170fdd-b831-4b33-b702-1d8dfb05be92"
      },
      "outputs": [
        {
          "output_type": "stream",
          "name": "stdout",
          "text": [
            "Multiplication result: 24\n"
          ]
        }
      ],
      "source": [
        "# Multiply two numbers\n",
        "a = 6\n",
        "b = 4\n",
        "result = a * b\n",
        "\n",
        "print(\"Multiplication result:\", result)\n",
        "\n",
        "\n"
      ]
    },
    {
      "cell_type": "code",
      "source": [],
      "metadata": {
        "id": "gmiIAELxG268"
      },
      "execution_count": null,
      "outputs": []
    },
    {
      "cell_type": "markdown",
      "source": [
        "| Name    | Age | City     |\n",
        "|---------|-----|----------|\n",
        "| Ann     | 24  | London   |\n",
        "| Peter   | 31  | Paris    |\n",
        "| Steven  | 25  | Odesa    |\n"
      ],
      "metadata": {
        "id": "9w45CeerG3LD"
      }
    },
    {
      "cell_type": "markdown",
      "source": [
        "## Password Guidelines\n",
        "\n",
        "Creating a strong password is essential for protecting your online accounts.\n",
        "\n",
        "---\n",
        "\n",
        "### What Makes a Strong Password?\n",
        "\n",
        "A strong password should:\n",
        "- Be at least 12 characters long\n",
        "- Include uppercase and lowercase letters\n",
        "- Contain numbers and special symbols\n",
        "- Avoid common words or personal information\n",
        "\n",
        "---\n",
        "\n",
        "### Tips for Managing Passwords\n",
        "\n",
        "- Use a password manager\n",
        "- Do not reuse the same password across websites\n",
        "- Enable two-factor authentication when available\n",
        "\n",
        "---\n",
        "\n",
        "### Final Note\n",
        "\n",
        "Your password is your first line of defense. Make it strong, and update it regularly!\n"
      ],
      "metadata": {
        "id": "wSCv0AtKHH0u"
      }
    },
    {
      "cell_type": "markdown",
      "source": [
        "### ✅ Password Security Checklist\n",
        "\n",
        "- [x] Use a unique password for each account  \n",
        "- [x] Enable two-factor authentication (2FA)  \n",
        "- [ ] Avoid using personal information  \n",
        "- [ ] Change passwords regularly  \n",
        "- [ ] Store passwords in a secure password manager  \n"
      ],
      "metadata": {
        "id": "mP-Z4h6fHQ6F"
      }
    },
    {
      "cell_type": "code",
      "source": [
        "print(\"Hello! I am Andrii, the student of NAU.\")"
      ],
      "metadata": {
        "colab": {
          "base_uri": "https://localhost:8080/"
        },
        "id": "rOiJ0MTGvcy4",
        "outputId": "63e7a51a-90ef-460d-c92f-22f8535ba7a8"
      },
      "execution_count": 3,
      "outputs": [
        {
          "output_type": "stream",
          "name": "stdout",
          "text": [
            "Hello! I am Andrii, the student of NAU.\n"
          ]
        }
      ]
    },
    {
      "cell_type": "code",
      "source": [
        "import numpy as np\n",
        "\n",
        "# Create a 2D NumPy array (matrix)\n",
        "matrix = np.array([[1, 2], [3, 4]])\n",
        "\n",
        "# Perform basic operations\n",
        "print(\"Original matrix:\\n\", matrix)\n",
        "print(\"Transpose of the matrix:\\n\", matrix.T)\n",
        "print(\"Matrix multiplied by 3:\\n\", matrix * 3)\n",
        "print(\"Sum of all elements:\", np.sum(matrix))\n"
      ],
      "metadata": {
        "colab": {
          "base_uri": "https://localhost:8080/"
        },
        "id": "M61Gj--02zLt",
        "outputId": "23b795ac-10b0-4181-c2fb-90fe7268e328"
      },
      "execution_count": 4,
      "outputs": [
        {
          "output_type": "stream",
          "name": "stdout",
          "text": [
            "Original matrix:\n",
            " [[1 2]\n",
            " [3 4]]\n",
            "Transpose of the matrix:\n",
            " [[1 3]\n",
            " [2 4]]\n",
            "Matrix multiplied by 3:\n",
            " [[ 3  6]\n",
            " [ 9 12]]\n",
            "Sum of all elements: 10\n"
          ]
        }
      ]
    },
    {
      "cell_type": "code",
      "source": [
        "with open('/content/Melnychuk.txt', 'r') as file:\n",
        "  print(file.read())"
      ],
      "metadata": {
        "colab": {
          "base_uri": "https://localhost:8080/"
        },
        "id": "x3iP8-6LCK1X",
        "outputId": "a21eed47-a773-4aca-f103-8642f60d30ec"
      },
      "execution_count": 5,
      "outputs": [
        {
          "output_type": "stream",
          "name": "stdout",
          "text": [
            "\"My name is Andrii, I am a student of the cybersecurity specialty.\"\n"
          ]
        }
      ]
    }
  ]
}